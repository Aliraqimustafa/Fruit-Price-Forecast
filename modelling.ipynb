{
 "cells": [
  {
   "cell_type": "markdown",
   "id": "86c16fe1",
   "metadata": {},
   "source": [
    "### Read Data"
   ]
  },
  {
   "cell_type": "code",
   "execution_count": 3,
   "id": "b84e2076",
   "metadata": {},
   "outputs": [
    {
     "data": {
      "text/html": [
       "<div>\n",
       "<style scoped>\n",
       "    .dataframe tbody tr th:only-of-type {\n",
       "        vertical-align: middle;\n",
       "    }\n",
       "\n",
       "    .dataframe tbody tr th {\n",
       "        vertical-align: top;\n",
       "    }\n",
       "\n",
       "    .dataframe thead th {\n",
       "        text-align: right;\n",
       "    }\n",
       "</style>\n",
       "<table border=\"1\" class=\"dataframe\">\n",
       "  <thead>\n",
       "    <tr style=\"text-align: right;\">\n",
       "      <th></th>\n",
       "      <th>Unnamed: 0</th>\n",
       "      <th>datesk</th>\n",
       "      <th>Item Name</th>\n",
       "      <th>Date</th>\n",
       "      <th>price</th>\n",
       "      <th>Item_Name</th>\n",
       "      <th>Percent</th>\n",
       "      <th>year</th>\n",
       "      <th>month</th>\n",
       "      <th>day</th>\n",
       "    </tr>\n",
       "  </thead>\n",
       "  <tbody>\n",
       "    <tr>\n",
       "      <th>0</th>\n",
       "      <td>296</td>\n",
       "      <td>20110101</td>\n",
       "      <td>Sponge Gourd</td>\n",
       "      <td>2011-01-01 00:00:00</td>\n",
       "      <td>32.0</td>\n",
       "      <td>294</td>\n",
       "      <td>0.673744</td>\n",
       "      <td>2011</td>\n",
       "      <td>1</td>\n",
       "      <td>1</td>\n",
       "    </tr>\n",
       "    <tr>\n",
       "      <th>1</th>\n",
       "      <td>22311</td>\n",
       "      <td>20110309</td>\n",
       "      <td>Berry Southafrica</td>\n",
       "      <td>2011-09-03 00:00:00</td>\n",
       "      <td>0.0</td>\n",
       "      <td>45</td>\n",
       "      <td>0.104917</td>\n",
       "      <td>2011</td>\n",
       "      <td>3</td>\n",
       "      <td>9</td>\n",
       "    </tr>\n",
       "    <tr>\n",
       "      <th>2</th>\n",
       "      <td>22312</td>\n",
       "      <td>20110309</td>\n",
       "      <td>Baby corn cleaned</td>\n",
       "      <td>2011-09-03 00:00:00</td>\n",
       "      <td>56.0</td>\n",
       "      <td>21</td>\n",
       "      <td>0.048937</td>\n",
       "      <td>2011</td>\n",
       "      <td>3</td>\n",
       "      <td>9</td>\n",
       "    </tr>\n",
       "    <tr>\n",
       "      <th>3</th>\n",
       "      <td>22313</td>\n",
       "      <td>20110309</td>\n",
       "      <td>Baby corn</td>\n",
       "      <td>2011-09-03 00:00:00</td>\n",
       "      <td>14.0</td>\n",
       "      <td>20</td>\n",
       "      <td>0.046607</td>\n",
       "      <td>2011</td>\n",
       "      <td>3</td>\n",
       "      <td>9</td>\n",
       "    </tr>\n",
       "    <tr>\n",
       "      <th>4</th>\n",
       "      <td>22314</td>\n",
       "      <td>20110309</td>\n",
       "      <td>Chillies Bajji yagani</td>\n",
       "      <td>2011-09-03 00:00:00</td>\n",
       "      <td>0.0</td>\n",
       "      <td>88</td>\n",
       "      <td>0.205171</td>\n",
       "      <td>2011</td>\n",
       "      <td>3</td>\n",
       "      <td>9</td>\n",
       "    </tr>\n",
       "  </tbody>\n",
       "</table>\n",
       "</div>"
      ],
      "text/plain": [
       "   Unnamed: 0    datesk              Item Name                 Date  price  \\\n",
       "0         296  20110101           Sponge Gourd  2011-01-01 00:00:00   32.0   \n",
       "1       22311  20110309      Berry Southafrica  2011-09-03 00:00:00    0.0   \n",
       "2       22312  20110309      Baby corn cleaned  2011-09-03 00:00:00   56.0   \n",
       "3       22313  20110309              Baby corn  2011-09-03 00:00:00   14.0   \n",
       "4       22314  20110309  Chillies Bajji yagani  2011-09-03 00:00:00    0.0   \n",
       "\n",
       "   Item_Name   Percent  year  month  day  \n",
       "0        294  0.673744  2011      1    1  \n",
       "1         45  0.104917  2011      3    9  \n",
       "2         21  0.048937  2011      3    9  \n",
       "3         20  0.046607  2011      3    9  \n",
       "4         88  0.205171  2011      3    9  "
      ]
     },
     "execution_count": 3,
     "metadata": {},
     "output_type": "execute_result"
    }
   ],
   "source": [
    "import pandas as pd\n",
    "import numpy as np\n",
    "\n",
    "df = pd.read_csv('Pre-Processed-data.csv')\n",
    "df.head()"
   ]
  },
  {
   "cell_type": "markdown",
   "id": "33508178",
   "metadata": {},
   "source": [
    "### Split Data to [ train , test ]"
   ]
  },
  {
   "cell_type": "code",
   "execution_count": 43,
   "id": "05c82d62",
   "metadata": {},
   "outputs": [
    {
     "data": {
      "text/plain": [
       "(551948, 10)"
      ]
     },
     "execution_count": 43,
     "metadata": {},
     "output_type": "execute_result"
    }
   ],
   "source": [
    "df.shape"
   ]
  },
  {
   "cell_type": "code",
   "execution_count": 11,
   "id": "a7940f61",
   "metadata": {},
   "outputs": [],
   "source": [
    "X = df[ ['Item_Name' , 'Percent' , 'year' , 'month' , 'day' ] ]\n",
    "y = df['price'].to_numpy().reshape(-1,1).ravel()"
   ]
  },
  {
   "cell_type": "code",
   "execution_count": 21,
   "id": "a307e8cf",
   "metadata": {},
   "outputs": [],
   "source": [
    "from sklearn.model_selection import train_test_split\n",
    "\n",
    "xtrain , xtest , ytrain , ytest = train_test_split(X,y ,test_size=.2 , shuffle=True , random_state=43 )"
   ]
  },
  {
   "cell_type": "markdown",
   "id": "0b09178d",
   "metadata": {},
   "source": [
    "### Create Models and Evaluate"
   ]
  },
  {
   "cell_type": "code",
   "execution_count": 22,
   "id": "4b09f6e4",
   "metadata": {},
   "outputs": [],
   "source": [
    "from sklearn.ensemble import RandomForestRegressor\n",
    "\n",
    "\n",
    "rf_model = RandomForestRegressor(n_estimators=50)"
   ]
  },
  {
   "cell_type": "code",
   "execution_count": 23,
   "id": "99fe1bfa",
   "metadata": {},
   "outputs": [
    {
     "data": {
      "text/plain": [
       "RandomForestRegressor(n_estimators=50)"
      ]
     },
     "execution_count": 23,
     "metadata": {},
     "output_type": "execute_result"
    }
   ],
   "source": [
    "rf_model.fit(xtrain,ytrain)"
   ]
  },
  {
   "cell_type": "code",
   "execution_count": 56,
   "id": "5f8fae5a",
   "metadata": {},
   "outputs": [],
   "source": [
    "predictions = rf_model.predict(xtest)"
   ]
  },
  {
   "cell_type": "code",
   "execution_count": 57,
   "id": "599b9fdf",
   "metadata": {},
   "outputs": [
    {
     "name": "stdout",
     "output_type": "stream",
     "text": [
      "Mean Squared Error:  40.405\n",
      "Mean Absolute Error:  0.969\n",
      "R-squared:  0.991\n"
     ]
    }
   ],
   "source": [
    "from sklearn.metrics import mean_squared_error, r2_score,mean_absolute_error\n",
    "\n",
    "\n",
    "mse = mean_squared_error(ytest, predictions)\n",
    "mae = mean_absolute_error(ytest, predictions)\n",
    "r2 = r2_score(ytest, predictions)\n",
    "\n",
    "\n",
    "print(\"Mean Squared Error: \", round(mse , 3) )\n",
    "print(\"Mean Absolute Error: \", round(mae , 3))\n",
    "print(\"R-squared: \", round(r2 , 3))"
   ]
  },
  {
   "cell_type": "code",
   "execution_count": 58,
   "id": "390c1e36",
   "metadata": {},
   "outputs": [
    {
     "data": {
      "text/html": [
       "<div>\n",
       "<style scoped>\n",
       "    .dataframe tbody tr th:only-of-type {\n",
       "        vertical-align: middle;\n",
       "    }\n",
       "\n",
       "    .dataframe tbody tr th {\n",
       "        vertical-align: top;\n",
       "    }\n",
       "\n",
       "    .dataframe thead th {\n",
       "        text-align: right;\n",
       "    }\n",
       "</style>\n",
       "<table border=\"1\" class=\"dataframe\">\n",
       "  <thead>\n",
       "    <tr style=\"text-align: right;\">\n",
       "      <th></th>\n",
       "      <th>ytest</th>\n",
       "      <th>predictions</th>\n",
       "    </tr>\n",
       "  </thead>\n",
       "  <tbody>\n",
       "    <tr>\n",
       "      <th>0</th>\n",
       "      <td>0.0</td>\n",
       "      <td>0.00</td>\n",
       "    </tr>\n",
       "    <tr>\n",
       "      <th>1</th>\n",
       "      <td>13.0</td>\n",
       "      <td>14.58</td>\n",
       "    </tr>\n",
       "    <tr>\n",
       "      <th>2</th>\n",
       "      <td>0.0</td>\n",
       "      <td>0.00</td>\n",
       "    </tr>\n",
       "    <tr>\n",
       "      <th>3</th>\n",
       "      <td>0.0</td>\n",
       "      <td>0.00</td>\n",
       "    </tr>\n",
       "    <tr>\n",
       "      <th>4</th>\n",
       "      <td>0.0</td>\n",
       "      <td>0.00</td>\n",
       "    </tr>\n",
       "    <tr>\n",
       "      <th>5</th>\n",
       "      <td>0.0</td>\n",
       "      <td>0.00</td>\n",
       "    </tr>\n",
       "    <tr>\n",
       "      <th>6</th>\n",
       "      <td>176.0</td>\n",
       "      <td>176.00</td>\n",
       "    </tr>\n",
       "    <tr>\n",
       "      <th>7</th>\n",
       "      <td>0.0</td>\n",
       "      <td>0.00</td>\n",
       "    </tr>\n",
       "    <tr>\n",
       "      <th>8</th>\n",
       "      <td>0.0</td>\n",
       "      <td>0.00</td>\n",
       "    </tr>\n",
       "    <tr>\n",
       "      <th>9</th>\n",
       "      <td>70.0</td>\n",
       "      <td>70.00</td>\n",
       "    </tr>\n",
       "  </tbody>\n",
       "</table>\n",
       "</div>"
      ],
      "text/plain": [
       "   ytest  predictions\n",
       "0    0.0         0.00\n",
       "1   13.0        14.58\n",
       "2    0.0         0.00\n",
       "3    0.0         0.00\n",
       "4    0.0         0.00\n",
       "5    0.0         0.00\n",
       "6  176.0       176.00\n",
       "7    0.0         0.00\n",
       "8    0.0         0.00\n",
       "9   70.0        70.00"
      ]
     },
     "execution_count": 58,
     "metadata": {},
     "output_type": "execute_result"
    }
   ],
   "source": [
    "df_eva = pd.DataFrame({'ytest': ytest , 'predictions' : predictions })\n",
    "df_eva.head(10)"
   ]
  },
  {
   "cell_type": "code",
   "execution_count": 64,
   "id": "e19b65a1",
   "metadata": {},
   "outputs": [
    {
     "data": {
      "text/plain": [
       "(110390,)"
      ]
     },
     "execution_count": 64,
     "metadata": {},
     "output_type": "execute_result"
    }
   ],
   "source": [
    "predictions.shape"
   ]
  },
  {
   "cell_type": "code",
   "execution_count": 79,
   "id": "3be83e72",
   "metadata": {},
   "outputs": [
    {
     "data": {
      "image/png": "[encoded data removed]",
      "text/plain": [
       "<Figure size 640x480 with 1 Axes>"
      ]
     },
     "metadata": {},
     "output_type": "display_data"
    }
   ],
   "source": [
    "import matplotlib.pyplot as plt\n",
    "\n",
    "_1 = 100\n",
    "_ = [i for i in range(_1)]\n",
    "\n",
    "plt.plot(_,ytest[:_1] )\n",
    "plt.plot(_,predictions[:_1])\n",
    "\n",
    "\n",
    "plt.legend(['Actual', 'Prediction'], loc='upper right')\n",
    "plt.show()"
   ]
  },
  {
   "cell_type": "code",
   "execution_count": 80,
   "id": "106396b1",
   "metadata": {},
   "outputs": [],
   "source": [
    "predictions = rf_model.predict(xtrain)"
   ]
  },
  {
   "cell_type": "code",
   "execution_count": 81,
   "id": "fb5abb3a",
   "metadata": {},
   "outputs": [
    {
     "name": "stdout",
     "output_type": "stream",
     "text": [
      "Mean Squared Error:  5.985\n",
      "Mean Absolute Error:  0.355\n",
      "R-squared:  0.999\n"
     ]
    }
   ],
   "source": [
    "mse = mean_squared_error(ytrain, predictions)\n",
    "mae = mean_absolute_error(ytrain, predictions)\n",
    "r2 = r2_score(ytrain, predictions)\n",
    "\n",
    "\n",
    "print(\"Mean Squared Error: \", round(mse , 3) )\n",
    "print(\"Mean Absolute Error: \", round(mae , 3))\n",
    "print(\"R-squared: \", round(r2 , 3))"
   ]
  },
  {
   "cell_type": "code",
   "execution_count": 82,
   "id": "6bacef15",
   "metadata": {
    "scrolled": false
   },
   "outputs": [
    {
     "data": {
      "text/html": [
       "<div>\n",
       "<style scoped>\n",
       "    .dataframe tbody tr th:only-of-type {\n",
       "        vertical-align: middle;\n",
       "    }\n",
       "\n",
       "    .dataframe tbody tr th {\n",
       "        vertical-align: top;\n",
       "    }\n",
       "\n",
       "    .dataframe thead th {\n",
       "        text-align: right;\n",
       "    }\n",
       "</style>\n",
       "<table border=\"1\" class=\"dataframe\">\n",
       "  <thead>\n",
       "    <tr style=\"text-align: right;\">\n",
       "      <th></th>\n",
       "      <th>ytrain</th>\n",
       "      <th>predictions</th>\n",
       "    </tr>\n",
       "  </thead>\n",
       "  <tbody>\n",
       "    <tr>\n",
       "      <th>0</th>\n",
       "      <td>60.0</td>\n",
       "      <td>60.52</td>\n",
       "    </tr>\n",
       "    <tr>\n",
       "      <th>1</th>\n",
       "      <td>58.0</td>\n",
       "      <td>58.46</td>\n",
       "    </tr>\n",
       "    <tr>\n",
       "      <th>2</th>\n",
       "      <td>49.0</td>\n",
       "      <td>49.30</td>\n",
       "    </tr>\n",
       "    <tr>\n",
       "      <th>3</th>\n",
       "      <td>44.0</td>\n",
       "      <td>44.00</td>\n",
       "    </tr>\n",
       "    <tr>\n",
       "      <th>4</th>\n",
       "      <td>98.0</td>\n",
       "      <td>98.00</td>\n",
       "    </tr>\n",
       "    <tr>\n",
       "      <th>5</th>\n",
       "      <td>228.0</td>\n",
       "      <td>228.00</td>\n",
       "    </tr>\n",
       "    <tr>\n",
       "      <th>6</th>\n",
       "      <td>30.0</td>\n",
       "      <td>30.00</td>\n",
       "    </tr>\n",
       "    <tr>\n",
       "      <th>7</th>\n",
       "      <td>0.0</td>\n",
       "      <td>0.00</td>\n",
       "    </tr>\n",
       "    <tr>\n",
       "      <th>8</th>\n",
       "      <td>18.0</td>\n",
       "      <td>18.50</td>\n",
       "    </tr>\n",
       "    <tr>\n",
       "      <th>9</th>\n",
       "      <td>190.0</td>\n",
       "      <td>190.00</td>\n",
       "    </tr>\n",
       "  </tbody>\n",
       "</table>\n",
       "</div>"
      ],
      "text/plain": [
       "   ytrain  predictions\n",
       "0    60.0        60.52\n",
       "1    58.0        58.46\n",
       "2    49.0        49.30\n",
       "3    44.0        44.00\n",
       "4    98.0        98.00\n",
       "5   228.0       228.00\n",
       "6    30.0        30.00\n",
       "7     0.0         0.00\n",
       "8    18.0        18.50\n",
       "9   190.0       190.00"
      ]
     },
     "execution_count": 82,
     "metadata": {},
     "output_type": "execute_result"
    }
   ],
   "source": [
    "df_eva2 = pd.DataFrame({'ytrain': ytrain , 'predictions' : predictions })\n",
    "df_eva2.head(10)"
   ]
  },
  {
   "cell_type": "code",
   "execution_count": 83,
   "id": "7d7f1a33",
   "metadata": {},
   "outputs": [
    {
     "data": {
      "image/png": "[encoded data removed]",
      "text/plain": [
       "<Figure size 640x480 with 1 Axes>"
      ]
     },
     "metadata": {},
     "output_type": "display_data"
    }
   ],
   "source": [
    "_1 = 100\n",
    "_ = [i for i in range(_1)]\n",
    "\n",
    "plt.plot(_,ytrain[:_1] )\n",
    "plt.plot(_,predictions[:_1])\n",
    "\n",
    "\n",
    "plt.legend(['Actual', 'Prediction'], loc='upper right')\n",
    "plt.show()"
   ]
  },
  {
   "cell_type": "markdown",
   "id": "f326cf52",
   "metadata": {},
   "source": [
    "### Save Model"
   ]
  },
  {
   "cell_type": "code",
   "execution_count": 85,
   "id": "9de0a3eb",
   "metadata": {},
   "outputs": [
    {
     "data": {
      "text/plain": [
       "['rf_model.pkl']"
      ]
     },
     "execution_count": 85,
     "metadata": {},
     "output_type": "execute_result"
    }
   ],
   "source": [
    "import joblib\n",
    "\n",
    "file_path = 'rf_model.pkl'\n",
    "joblib.dump(rf_model, file_path)"
   ]
  },
  {
   "cell_type": "markdown",
   "id": "9836edb1",
   "metadata": {},
   "source": [
    "### Load Model and Encoder "
   ]
  },
  {
   "cell_type": "code",
   "execution_count": 86,
   "id": "d6709578",
   "metadata": {},
   "outputs": [],
   "source": [
    "import joblib\n",
    "\n",
    "file_path = 'encoder.pkl'\n",
    "\n",
    "loaded_encoder = joblib.load(file_path)\n",
    "\n",
    "\n",
    "file_path = 'rf_model.pkl'\n",
    "\n",
    "loaded_model = joblib.load(file_path)"
   ]
  },
  {
   "cell_type": "markdown",
   "id": "5f5870a6",
   "metadata": {},
   "source": [
    "### Make Predict"
   ]
  },
  {
   "cell_type": "code",
   "execution_count": 146,
   "id": "39a20476",
   "metadata": {},
   "outputs": [],
   "source": [
    "label = 328\n",
    "year = 2023\n",
    "month = 9\n",
    "day = 30\n",
    "actual_cost = 60"
   ]
  },
  {
   "cell_type": "code",
   "execution_count": 147,
   "id": "179e6826",
   "metadata": {},
   "outputs": [
    {
     "data": {
      "text/html": [
       "<div>\n",
       "<style scoped>\n",
       "    .dataframe tbody tr th:only-of-type {\n",
       "        vertical-align: middle;\n",
       "    }\n",
       "\n",
       "    .dataframe tbody tr th {\n",
       "        vertical-align: top;\n",
       "    }\n",
       "\n",
       "    .dataframe thead th {\n",
       "        text-align: right;\n",
       "    }\n",
       "</style>\n",
       "<table border=\"1\" class=\"dataframe\">\n",
       "  <thead>\n",
       "    <tr style=\"text-align: right;\">\n",
       "      <th></th>\n",
       "      <th>Item_Name</th>\n",
       "      <th>Percent</th>\n",
       "      <th>year</th>\n",
       "      <th>month</th>\n",
       "      <th>day</th>\n",
       "    </tr>\n",
       "  </thead>\n",
       "  <tbody>\n",
       "    <tr>\n",
       "      <th>0</th>\n",
       "      <td>328</td>\n",
       "      <td>0.76473</td>\n",
       "      <td>2023</td>\n",
       "      <td>9</td>\n",
       "      <td>30</td>\n",
       "    </tr>\n",
       "  </tbody>\n",
       "</table>\n",
       "</div>"
      ],
      "text/plain": [
       "   Item_Name  Percent  year  month  day\n",
       "0        328  0.76473  2023      9   30"
      ]
     },
     "execution_count": 147,
     "metadata": {},
     "output_type": "execute_result"
    }
   ],
   "source": [
    "_data = pd.DataFrame([])\n",
    "\n",
    "_data['Item_Name'] = [label]\n",
    "_data['Percent'] = [float(df[df['Item_Name'] == label]['Percent'].values[0])]\n",
    "_data['year'] = [year]\n",
    "_data['month'] = [month]\n",
    "_data['day'] = [day]\n",
    "\n",
    "_data.head()"
   ]
  },
  {
   "cell_type": "code",
   "execution_count": 148,
   "id": "bdaabc5a",
   "metadata": {},
   "outputs": [
    {
     "name": "stdout",
     "output_type": "stream",
     "text": [
      "knol-khol\n"
     ]
    }
   ],
   "source": [
    "f_or_v = loaded_encoder.classes_[label]\n",
    "print(f_or_v)"
   ]
  },
  {
   "cell_type": "code",
   "execution_count": 152,
   "id": "121a9403",
   "metadata": {
    "scrolled": true
   },
   "outputs": [],
   "source": [
    "predictions_cost = loaded_model.predict(_data)[0]"
   ]
  },
  {
   "cell_type": "code",
   "execution_count": 156,
   "id": "f1f7dea6",
   "metadata": {},
   "outputs": [
    {
     "name": "stdout",
     "output_type": "stream",
     "text": [
      "Actual : 60\n",
      "Prediction : 65.12\n",
      "Abs Delta : 5.12\n"
     ]
    }
   ],
   "source": [
    "abs_delta = abs(predictions_cost-actual_cost)\n",
    "print(f'Actual : {actual_cost}')\n",
    "print(f'Prediction : {predictions_cost}')\n",
    "print(f'Abs Delta : {round(abs_delta,4)}')"
   ]
  },
  {
   "cell_type": "code",
   "execution_count": null,
   "id": "634551ce",
   "metadata": {},
   "outputs": [],
   "source": []
  },
  {
   "cell_type": "code",
   "execution_count": null,
   "id": "5a746f21",
   "metadata": {},
   "outputs": [],
   "source": []
  },
  {
   "cell_type": "code",
   "execution_count": null,
   "id": "ae817cac",
   "metadata": {},
   "outputs": [],
   "source": []
  }
 ],
 "metadata": {
  "kernelspec": {
   "display_name": "Python 3 (ipykernel)",
   "language": "python",
   "name": "python3"
  },
  "language_info": {
   "codemirror_mode": {
    "name": "ipython",
    "version": 3
   },
   "file_extension": ".py",
   "mimetype": "text/x-python",
   "name": "python",
   "nbconvert_exporter": "python",
   "pygments_lexer": "ipython3",
   "version": "3.9.13"
  }
 },
 "nbformat": 4,
 "nbformat_minor": 5
}
